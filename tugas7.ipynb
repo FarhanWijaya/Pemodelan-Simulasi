{
  "nbformat": 4,
  "nbformat_minor": 0,
  "metadata": {
    "colab": {
      "provenance": [],
      "authorship_tag": "ABX9TyOfgBHe7CDf4RXsjZHFloL9",
      "include_colab_link": true
    },
    "kernelspec": {
      "name": "python3",
      "display_name": "Python 3"
    },
    "language_info": {
      "name": "python"
    }
  },
  "cells": [
    {
      "cell_type": "markdown",
      "metadata": {
        "id": "view-in-github",
        "colab_type": "text"
      },
      "source": [
        "<a href=\"https://colab.research.google.com/github/FarhanWijaya/Pemodelan-Simulasi/blob/main/tugas7.ipynb\" target=\"_parent\"><img src=\"https://colab.research.google.com/assets/colab-badge.svg\" alt=\"Open In Colab\"/></a>"
      ]
    },
    {
      "source": [
        "import numpy as np\n",
        "\n",
        "# Parameter\n",
        "lambda_poisson = 5  # Rata-rata kedatangan pelanggan per hari (proses Poisson)\n",
        "probabilitas_beli_motor = 0.2  # Probabilitas setiap pelanggan membeli motor\n",
        "harga_motor = 20000000  # Harga motor dalam satuan IDR\n",
        "jumlah_hari_simulasi = 30  # Periode simulasi (30 hari)\n",
        "jumlah_simulasi = 1000  # Jumlah simulasi untuk estimasi yang lebih baik\n",
        "\n",
        "# Fungsi untuk mensimulasikan penjualan per hari\n",
        "def simulasi_penjualan():\n",
        "    total_motor_terjual = 0\n",
        "    for hari in range(jumlah_hari_simulasi):\n",
        "        # Simulasi kedatangan pelanggan per hari (distribusi Poisson)\n",
        "        kedatangan_pelanggan = np.random.poisson(lambda_poisson)\n",
        "\n",
        "        # Simulasi pembelian motor oleh pelanggan yang datang\n",
        "        motor_terjual_hari_ini = np.sum(np.random.rand(kedatangan_pelanggan) < probabilitas_beli_motor)\n",
        "\n",
        "        # Akumulasi jumlah motor terjual\n",
        "        total_motor_terjual += motor_terjual_hari_ini\n",
        "\n",
        "    return total_motor_terjual\n",
        "\n",
        "# Menjalankan simulasi Monte Carlo untuk beberapa iterasi\n",
        "total_motor_terjual_simulasi = []\n",
        "pendapatan_simulasi = []\n",
        "\n",
        "for _ in range(jumlah_simulasi):\n",
        "    total_motor_terjual = simulasi_penjualan()\n",
        "    total_motor_terjual_simulasi.append(total_motor_terjual)\n",
        "    pendapatan_simulasi.append(total_motor_terjual * harga_motor)\n",
        "\n",
        "# Menampilkan hasil simulasi\n",
        "rata_rata_motor_terjual = np.mean(total_motor_terjual_simulasi)\n",
        "rata_rata_pendapatan = np.mean(pendapatan_simulasi)\n",
        "\n",
        "print(f\"Rata-rata jumlah motor terjual dalam {jumlah_hari_simulasi} hari: {rata_rata_motor_terjual}\")\n",
        "print(f\"Rata-rata pendapatan yang dihasilkan: IDR {rata_rata_pendapatan:,.2f}\")\n",
        "print(f\"Simulasi berhasil dijalankan sebanyak {jumlah_simulasi} kali.\")\n"
      ],
      "cell_type": "code",
      "metadata": {
        "colab": {
          "base_uri": "https://localhost:8080/"
        },
        "id": "LxvrBquj3gIv",
        "outputId": "a67b5a1b-a4d5-4ab4-f15c-bfdb37bd09f6"
      },
      "execution_count": 4,
      "outputs": [
        {
          "output_type": "stream",
          "name": "stdout",
          "text": [
            "Rata-rata jumlah motor terjual dalam 30 hari: 30.018\n",
            "Rata-rata pendapatan yang dihasilkan: IDR 600,360,000.00\n",
            "Simulasi berhasil dijalankan sebanyak 1000 kali.\n"
          ]
        }
      ]
    }
  ]
}